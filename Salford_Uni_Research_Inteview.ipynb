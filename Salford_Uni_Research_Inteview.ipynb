{
  "nbformat": 4,
  "nbformat_minor": 0,
  "metadata": {
    "colab": {
      "provenance": [],
      "authorship_tag": "ABX9TyNrDkU2BMCuBjo21Y7zRjCq",
      "include_colab_link": true
    },
    "kernelspec": {
      "name": "python3",
      "display_name": "Python 3"
    },
    "language_info": {
      "name": "python"
    }
  },
  "cells": [
    {
      "cell_type": "markdown",
      "metadata": {
        "id": "view-in-github",
        "colab_type": "text"
      },
      "source": [
        "<a href=\"https://colab.research.google.com/github/SandraPlaCar/data-collection-pipeline/blob/main/Salford_Uni_Research_Inteview.ipynb\" target=\"_parent\"><img src=\"https://colab.research.google.com/assets/colab-badge.svg\" alt=\"Open In Colab\"/></a>"
      ]
    },
    {
      "cell_type": "markdown",
      "source": [
        "# Task: part 1"
      ],
      "metadata": {
        "id": "VS14TwEg9aYu"
      }
    },
    {
      "cell_type": "code",
      "source": [
        "import pandas as pd"
      ],
      "metadata": {
        "id": "v4ewP6M460-w"
      },
      "execution_count": null,
      "outputs": []
    },
    {
      "cell_type": "markdown",
      "source": [
        "*(i).a* Retrieve Imported Energy per day (set dates)"
      ],
      "metadata": {
        "id": "-RUcqVUW8_vm"
      }
    },
    {
      "cell_type": "code",
      "execution_count": null,
      "metadata": {
        "colab": {
          "base_uri": "https://localhost:8080/"
        },
        "id": "bf_KE1RprSJO",
        "outputId": "5934e597-46b9-486a-f358-ac6c4f1e46d9"
      },
      "outputs": [
        {
          "output_type": "stream",
          "name": "stdout",
          "text": [
            "         Date  Sum_of_Consumption_kWh\n",
            "0  2023-02-01                  18.855\n",
            "1  2023-02-02                  44.835\n",
            "2  2023-02-03                  43.778\n",
            "3  2023-02-04                  20.655\n",
            "4  2023-02-05                   0.062\n"
          ]
        }
      ],
      "source": [
        "# Define function\n",
        "\n",
        "def retrieve_and_sum_by_day(csv_file, start_date, end_date):\n",
        "    # Read the CSV file into a DataFrame\n",
        "    df = pd.read_csv(csv_file, parse_dates=['date'], dayfirst=True)\n",
        "\n",
        "    # Filter rows based on the date range\n",
        "    mask = (df['date'] >= pd.to_datetime(start_date, dayfirst=True)) & (df['date'] <= pd.to_datetime(end_date, dayfirst=True))\n",
        "    filtered_data = df.loc[mask]\n",
        "\n",
        "    # Group by day and sum the consumption\n",
        "    grouped_data = filtered_data.groupby(filtered_data['date'].dt.date)['consumption'].sum().reset_index()\n",
        "\n",
        "    # Rename the columns\n",
        "    grouped_data.columns = ['Date', 'Sum_of_Consumption_kWh']\n",
        "\n",
        "    return grouped_data\n",
        "\n",
        "# Define variables\n",
        "csv_file_path = 'Smart_Meter_Import_30-min.csv'  # Replace with your actual CSV file path\n",
        "start_date_input = '01/02/2023'  # Replace with your desired start date\n",
        "end_date_input = '05/02/2023'    # Replace with your desired end date\n",
        "\n",
        "result = retrieve_and_sum_by_day(csv_file_path, start_date_input, end_date_input)\n",
        "print(result)"
      ]
    },
    {
      "cell_type": "markdown",
      "source": [
        "*(i).b* Retrieve Imported Energy per day (input dates)"
      ],
      "metadata": {
        "id": "6nDVV10E90bU"
      }
    },
    {
      "cell_type": "code",
      "source": [
        "def retrieve_and_sum_by_day(csv_file):\n",
        "    # Read the CSV file into a DataFrame\n",
        "    df = pd.read_csv(csv_file, parse_dates=['date'], dayfirst=True)\n",
        "\n",
        "    # Get the date range from the user\n",
        "    start_date_input = input(\"Enter start date (dd/mm/yyyy): \")\n",
        "    end_date_input = input(\"Enter end date (dd/mm/yyyy): \")\n",
        "\n",
        "    # Validate the date inputs\n",
        "    try:\n",
        "        start_date = pd.to_datetime(start_date_input, dayfirst=True)\n",
        "        end_date = pd.to_datetime(end_date_input, dayfirst=True)\n",
        "    except ValueError:\n",
        "        print(\"Invalid date format. Please use the format dd/mm/yyyy.\")\n",
        "        return None\n",
        "\n",
        "    if not (start_date >= df['date'].min() and end_date <= df['date'].max()):\n",
        "        print(\"Error: Entered date range is outside the data range.\")\n",
        "        return None\n",
        "\n",
        "    # Filter rows based on the date range\n",
        "    mask = (df['date'] >= start_date) & (df['date'] <= end_date)\n",
        "    filtered_data = df.loc[mask]\n",
        "\n",
        "    # Group by day and sum the consumption\n",
        "    grouped_data = filtered_data.groupby(filtered_data['date'].dt.date)['consumption'].sum().reset_index()\n",
        "\n",
        "    # Rename the columns\n",
        "    grouped_data.columns = ['Date', 'Sum_of_Consumption_kWh']\n",
        "\n",
        "    return grouped_data\n",
        "\n",
        "# Example usage\n",
        "csv_file_path = 'Smart_Meter_Import_30-min.csv'  # Replace with your actual CSV file path\n",
        "result = retrieve_and_sum_by_day(csv_file_path)\n",
        "\n",
        "if result is not None:\n",
        "    print(result)\n",
        "\n"
      ],
      "metadata": {
        "colab": {
          "base_uri": "https://localhost:8080/"
        },
        "id": "D3jvaaVQ-Fuu",
        "outputId": "7d8c52b9-52fe-4316-e34a-962d4d72ef12"
      },
      "execution_count": null,
      "outputs": [
        {
          "output_type": "stream",
          "name": "stdout",
          "text": [
            "Enter start date (dd/mm/yyyy): 01/02/2023\n",
            "Enter end date (dd/mm/yyyy): 05/02/2023\n",
            "         Date  Sum_of_Consumption_kWh\n",
            "0  2023-02-01                  18.855\n",
            "1  2023-02-02                  44.835\n",
            "2  2023-02-03                  43.778\n",
            "3  2023-02-04                  20.655\n",
            "4  2023-02-05                   0.062\n"
          ]
        }
      ]
    },
    {
      "cell_type": "markdown",
      "source": [
        "#Task: Part 2"
      ],
      "metadata": {
        "id": "kCkVIS9dAEOA"
      }
    },
    {
      "cell_type": "markdown",
      "source": [
        "*(ii).a* Retrieve PV to Home energy per day (set dates)"
      ],
      "metadata": {
        "id": "624Tb1S2OmCv"
      }
    },
    {
      "cell_type": "code",
      "source": [
        "def sum_pv_by_date_range(csv_file, start_date, end_date):\n",
        "    # Read the CSV file into a DataFrame\n",
        "    df = pd.read_csv(csv_file, parse_dates=['start_time'], dayfirst=True)\n",
        "\n",
        "    # Convert start_date and end_date to datetime objects\n",
        "    start_date = pd.to_datetime(start_date, format='%d/%m/%Y')\n",
        "    end_date = pd.to_datetime(end_date, format='%d/%m/%Y')\n",
        "\n",
        "    # Filter rows based on the date range\n",
        "    mask = (df['start_time'] >= start_date) & (df['start_time'] <= end_date)\n",
        "    filtered_data = df.loc[mask]\n",
        "\n",
        "    if filtered_data.empty:\n",
        "        print(\"No data available for the specified date range.\")\n",
        "        return None\n",
        "\n",
        "    # Sum the 'PV to Home' values by date\n",
        "    sum_by_date = filtered_data.groupby(filtered_data['start_time'].dt.date)['PV to Home'].sum().reset_index()\n",
        "\n",
        "    # Rename the columns\n",
        "    sum_by_date.columns = ['Date', 'Sum_PV_to_Home']\n",
        "\n",
        "    return sum_by_date\n",
        "\n",
        "# Example usage\n",
        "csv_file_path = 'Energy_Flows_30-min.csv'  # Replace with your actual CSV file path\n",
        "start_date_input = '01/02/2023'  # Replace with your desired start date (in dd/mm/yyyy format)\n",
        "end_date_input = '05/02/2023'    # Replace with your desired end date (in dd/mm/yyyy format)\n",
        "\n",
        "result = sum_pv_by_date_range(csv_file_path, start_date_input, end_date_input)\n",
        "\n",
        "if result is not None:\n",
        "    print(result)"
      ],
      "metadata": {
        "colab": {
          "base_uri": "https://localhost:8080/"
        },
        "id": "jDeyWXyzbvWk",
        "outputId": "efea5a2f-f195-4437-d829-7d5cfb3971b8"
      },
      "execution_count": null,
      "outputs": [
        {
          "output_type": "stream",
          "name": "stdout",
          "text": [
            "         Date  Sum_PV_to_Home\n",
            "0  2023-02-01            1.92\n",
            "1  2023-02-02            1.15\n",
            "2  2023-02-03            1.49\n",
            "3  2023-02-04            1.15\n",
            "4  2023-02-05            0.00\n"
          ]
        }
      ]
    },
    {
      "cell_type": "markdown",
      "source": [
        "*(ii).a* Retrieve PV to Home energy per day (input dates)"
      ],
      "metadata": {
        "id": "nT7XqVrZc68J"
      }
    },
    {
      "cell_type": "code",
      "source": [
        "def sum_pv_by_date_range(csv_file):\n",
        "    # Read the CSV file into a DataFrame\n",
        "    df = pd.read_csv(csv_file, parse_dates=['start_time'], dayfirst=True)\n",
        "\n",
        "    # Get user input for start date\n",
        "    start_date_input = input(\"Enter start date (dd/mm/yyyy): \")\n",
        "    start_date = pd.to_datetime(start_date_input, format='%d/%m/%Y')\n",
        "\n",
        "    # Get user input for end date\n",
        "    end_date_input = input(\"Enter end date (dd/mm/yyyy): \")\n",
        "    end_date = pd.to_datetime(end_date_input, format='%d/%m/%Y')\n",
        "\n",
        "    # Check if the provided dates are within the range of the data\n",
        "    if (start_date < df['start_time'].min()) or (end_date > df['start_time'].max()):\n",
        "        print(\"Error: Provided date range is outside the available data range.\")\n",
        "        return None\n",
        "\n",
        "    # Filter rows based on the date range\n",
        "    mask = (df['start_time'] >= start_date) & (df['start_time'] <= end_date)\n",
        "    filtered_data = df.loc[mask]\n",
        "\n",
        "    if filtered_data.empty:\n",
        "        print(\"No data available for the specified date range.\")\n",
        "        return None\n",
        "\n",
        "    # Sum the 'PV to Home' values by date\n",
        "    sum_by_date = filtered_data.groupby(filtered_data['start_time'].dt.date)['PV to Home'].sum().reset_index()\n",
        "\n",
        "    # Rename the columns\n",
        "    sum_by_date.columns = ['Date', 'Sum_PV_to_Home']\n",
        "\n",
        "    return sum_by_date\n",
        "\n",
        "# Example usage\n",
        "csv_file_path = 'Energy_Flows_30-min.csv'  # Replace with your actual CSV file path\n",
        "\n",
        "result = sum_pv_by_date_range(csv_file_path)\n",
        "\n",
        "if result is not None:\n",
        "    print(result)\n"
      ],
      "metadata": {
        "colab": {
          "base_uri": "https://localhost:8080/"
        },
        "id": "zTS7tFe8cj5q",
        "outputId": "ce9d57ad-1afe-4504-90af-28fd57739385"
      },
      "execution_count": null,
      "outputs": [
        {
          "output_type": "stream",
          "name": "stdout",
          "text": [
            "Enter start date (dd/mm/yyyy): 06/01/2023\n",
            "Enter end date (dd/mm/yyyy): 10/01/2023\n",
            "         Date  Sum_PV_to_Home\n",
            "0  2023-01-06             0.0\n",
            "1  2023-01-07             0.0\n",
            "2  2023-01-08             0.0\n",
            "3  2023-01-09             0.0\n",
            "4  2023-01-10             0.0\n"
          ]
        }
      ]
    }
  ]
}